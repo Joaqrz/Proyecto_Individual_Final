{
 "cells": [
  {
   "cell_type": "code",
   "execution_count": 1,
   "metadata": {},
   "outputs": [],
   "source": [
    "#ETL for steam games\n",
    "import gzip\n",
    "import json \n",
    "import pandas as pd \n",
    "\n",
    "data = []\n",
    "\n",
    "with gzip.open('steam_games.json.gz', 'rb') as d:\n",
    "    for line in d:\n",
    "        data.append(json.loads(line))\n",
    "games = pd.DataFrame(data)\n",
    "d.close()\n"
   ]
  },
  {
   "cell_type": "code",
   "execution_count": 2,
   "metadata": {},
   "outputs": [],
   "source": [
    "#ETL for user reviews\n",
    "import gzip\n",
    "import ast\n",
    "import pandas as pd \n",
    "data = []\n",
    "\n",
    "\n",
    "\n",
    "try:\n",
    "    with gzip.open('user_reviews.json.gz', 'rb') as d:\n",
    "        for line in d:\n",
    "            data.append(ast.literal_eval(line.decode('utf-8')))\n",
    "    reviews = pd.DataFrame(data)\n",
    "finally:\n",
    "    d.close()  # Cerramos el archivo en el bloque 'finally' para garantizar que se cierre correctamente"
   ]
  },
  {
   "cell_type": "code",
   "execution_count": 3,
   "metadata": {},
   "outputs": [],
   "source": [
    "#ETL for user items\n",
    "import gzip\n",
    "import ast\n",
    "import pandas as pd \n",
    "\n",
    "data = []\n",
    "\n",
    "try:\n",
    "    with gzip.open('users_items.json.gz', 'rb') as d:\n",
    "        for line in d:\n",
    "            data.append(ast.literal_eval(line.decode('utf-8')))\n",
    "    Users_Items = pd.DataFrame(data)\n",
    "finally:\n",
    "    d.close()"
   ]
  },
  {
   "cell_type": "code",
   "execution_count": 21,
   "metadata": {},
   "outputs": [
    {
     "name": "stdout",
     "output_type": "stream",
     "text": [
      "games:  (120445, 13)\n",
      "reviews:  (25799, 3)\n",
      "items:  (88310, 5)\n"
     ]
    }
   ],
   "source": [
    "#Tamaño de los dataframe antes de la limpieza\n",
    "print('games: ', games.shape)\n",
    "print('reviews: ', reviews.shape)\n",
    "print('items: ', Users_Items.shape)"
   ]
  },
  {
   "cell_type": "code",
   "execution_count": 22,
   "metadata": {},
   "outputs": [],
   "source": [
    "#Limpieza de líneas NaN\n",
    "games_clean = games.dropna(how='all')\n",
    "reviews_clean = reviews.dropna(how='all')\n",
    "items_clean = Users_Items.dropna(how='all')"
   ]
  },
  {
   "cell_type": "code",
   "execution_count": 23,
   "metadata": {},
   "outputs": [
    {
     "name": "stdout",
     "output_type": "stream",
     "text": [
      "games:  (32135, 13)\n",
      "reviews:  (25799, 3)\n",
      "items:  (88310, 5)\n"
     ]
    }
   ],
   "source": [
    "#Tamaño de los dataframe luego de la limpieza\n",
    "print('games: ', games_clean.shape)\n",
    "print('reviews: ', reviews_clean.shape)\n",
    "print('items: ', items_clean.shape)"
   ]
  }
 ],
 "metadata": {
  "kernelspec": {
   "display_name": ".venv",
   "language": "python",
   "name": "python3"
  },
  "language_info": {
   "codemirror_mode": {
    "name": "ipython",
    "version": 3
   },
   "file_extension": ".py",
   "mimetype": "text/x-python",
   "name": "python",
   "nbconvert_exporter": "python",
   "pygments_lexer": "ipython3",
   "version": "3.11.0"
  }
 },
 "nbformat": 4,
 "nbformat_minor": 2
}
