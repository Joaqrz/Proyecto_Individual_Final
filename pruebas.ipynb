{
 "cells": [
  {
   "cell_type": "markdown",
   "metadata": {},
   "source": [
    "STEAM GAMES\n"
   ]
  },
  {
   "cell_type": "code",
   "execution_count": 2,
   "metadata": {},
   "outputs": [],
   "source": [
    "#ETL for steam games\n",
    "import gzip\n",
    "import json \n",
    "import pandas as pd \n",
    "\n",
    "data = []\n",
    "\n",
    "with gzip.open('steam_games.json.gz', 'rb') as d:\n",
    "    for line in d:\n",
    "        data.append(json.loads(line))\n",
    "games = pd.DataFrame(data)\n",
    "d.close()\n"
   ]
  },
  {
   "cell_type": "code",
   "execution_count": 12,
   "metadata": {},
   "outputs": [
    {
     "name": "stdout",
     "output_type": "stream",
     "text": [
      "games:  (120445, 13)\n"
     ]
    }
   ],
   "source": [
    "#Tamaño Steam Games antes de la limpieza:\n",
    "print('games: ', games.shape)"
   ]
  },
  {
   "cell_type": "code",
   "execution_count": null,
   "metadata": {},
   "outputs": [],
   "source": [
    "#Limpieza NaN Steam Games:\n",
    "games_clean = games.dropna(how='all')"
   ]
  },
  {
   "cell_type": "code",
   "execution_count": 13,
   "metadata": {},
   "outputs": [
    {
     "name": "stdout",
     "output_type": "stream",
     "text": [
      "Games Clean:  (32135, 13)\n"
     ]
    }
   ],
   "source": [
    "#Tamaño Steam Games luego de la limpieza:\n",
    "print('Games Clean: ', games_clean.shape)"
   ]
  },
  {
   "cell_type": "code",
   "execution_count": 16,
   "metadata": {},
   "outputs": [
    {
     "data": {
      "text/html": [
       "<div>\n",
       "<style scoped>\n",
       "    .dataframe tbody tr th:only-of-type {\n",
       "        vertical-align: middle;\n",
       "    }\n",
       "\n",
       "    .dataframe tbody tr th {\n",
       "        vertical-align: top;\n",
       "    }\n",
       "\n",
       "    .dataframe thead th {\n",
       "        text-align: right;\n",
       "    }\n",
       "</style>\n",
       "<table border=\"1\" class=\"dataframe\">\n",
       "  <thead>\n",
       "    <tr style=\"text-align: right;\">\n",
       "      <th></th>\n",
       "      <th>publisher</th>\n",
       "      <th>genres</th>\n",
       "      <th>app_name</th>\n",
       "      <th>title</th>\n",
       "      <th>url</th>\n",
       "      <th>release_date</th>\n",
       "      <th>tags</th>\n",
       "      <th>reviews_url</th>\n",
       "      <th>specs</th>\n",
       "      <th>price</th>\n",
       "      <th>early_access</th>\n",
       "      <th>id</th>\n",
       "      <th>developer</th>\n",
       "    </tr>\n",
       "  </thead>\n",
       "  <tbody>\n",
       "    <tr>\n",
       "      <th>88310</th>\n",
       "      <td>Kotoshiro</td>\n",
       "      <td>[Action, Casual, Indie, Simulation, Strategy]</td>\n",
       "      <td>Lost Summoner Kitty</td>\n",
       "      <td>Lost Summoner Kitty</td>\n",
       "      <td>http://store.steampowered.com/app/761140/Lost_...</td>\n",
       "      <td>2018-01-04</td>\n",
       "      <td>[Strategy, Action, Indie, Casual, Simulation]</td>\n",
       "      <td>http://steamcommunity.com/app/761140/reviews/?...</td>\n",
       "      <td>[Single-player]</td>\n",
       "      <td>4.99</td>\n",
       "      <td>False</td>\n",
       "      <td>761140</td>\n",
       "      <td>Kotoshiro</td>\n",
       "    </tr>\n",
       "    <tr>\n",
       "      <th>88311</th>\n",
       "      <td>Making Fun, Inc.</td>\n",
       "      <td>[Free to Play, Indie, RPG, Strategy]</td>\n",
       "      <td>Ironbound</td>\n",
       "      <td>Ironbound</td>\n",
       "      <td>http://store.steampowered.com/app/643980/Ironb...</td>\n",
       "      <td>2018-01-04</td>\n",
       "      <td>[Free to Play, Strategy, Indie, RPG, Card Game...</td>\n",
       "      <td>http://steamcommunity.com/app/643980/reviews/?...</td>\n",
       "      <td>[Single-player, Multi-player, Online Multi-Pla...</td>\n",
       "      <td>Free To Play</td>\n",
       "      <td>False</td>\n",
       "      <td>643980</td>\n",
       "      <td>Secret Level SRL</td>\n",
       "    </tr>\n",
       "    <tr>\n",
       "      <th>88312</th>\n",
       "      <td>Poolians.com</td>\n",
       "      <td>[Casual, Free to Play, Indie, Simulation, Sports]</td>\n",
       "      <td>Real Pool 3D - Poolians</td>\n",
       "      <td>Real Pool 3D - Poolians</td>\n",
       "      <td>http://store.steampowered.com/app/670290/Real_...</td>\n",
       "      <td>2017-07-24</td>\n",
       "      <td>[Free to Play, Simulation, Sports, Casual, Ind...</td>\n",
       "      <td>http://steamcommunity.com/app/670290/reviews/?...</td>\n",
       "      <td>[Single-player, Multi-player, Online Multi-Pla...</td>\n",
       "      <td>Free to Play</td>\n",
       "      <td>False</td>\n",
       "      <td>670290</td>\n",
       "      <td>Poolians.com</td>\n",
       "    </tr>\n",
       "    <tr>\n",
       "      <th>88313</th>\n",
       "      <td>彼岸领域</td>\n",
       "      <td>[Action, Adventure, Casual]</td>\n",
       "      <td>弹炸人2222</td>\n",
       "      <td>弹炸人2222</td>\n",
       "      <td>http://store.steampowered.com/app/767400/2222/</td>\n",
       "      <td>2017-12-07</td>\n",
       "      <td>[Action, Adventure, Casual]</td>\n",
       "      <td>http://steamcommunity.com/app/767400/reviews/?...</td>\n",
       "      <td>[Single-player]</td>\n",
       "      <td>0.99</td>\n",
       "      <td>False</td>\n",
       "      <td>767400</td>\n",
       "      <td>彼岸领域</td>\n",
       "    </tr>\n",
       "    <tr>\n",
       "      <th>88314</th>\n",
       "      <td>NaN</td>\n",
       "      <td>NaN</td>\n",
       "      <td>Log Challenge</td>\n",
       "      <td>NaN</td>\n",
       "      <td>http://store.steampowered.com/app/773570/Log_C...</td>\n",
       "      <td>NaN</td>\n",
       "      <td>[Action, Indie, Casual, Sports]</td>\n",
       "      <td>http://steamcommunity.com/app/773570/reviews/?...</td>\n",
       "      <td>[Single-player, Full controller support, HTC V...</td>\n",
       "      <td>2.99</td>\n",
       "      <td>False</td>\n",
       "      <td>773570</td>\n",
       "      <td>NaN</td>\n",
       "    </tr>\n",
       "  </tbody>\n",
       "</table>\n",
       "</div>"
      ],
      "text/plain": [
       "              publisher                                             genres  \\\n",
       "88310         Kotoshiro      [Action, Casual, Indie, Simulation, Strategy]   \n",
       "88311  Making Fun, Inc.               [Free to Play, Indie, RPG, Strategy]   \n",
       "88312      Poolians.com  [Casual, Free to Play, Indie, Simulation, Sports]   \n",
       "88313              彼岸领域                        [Action, Adventure, Casual]   \n",
       "88314               NaN                                                NaN   \n",
       "\n",
       "                      app_name                    title  \\\n",
       "88310      Lost Summoner Kitty      Lost Summoner Kitty   \n",
       "88311                Ironbound                Ironbound   \n",
       "88312  Real Pool 3D - Poolians  Real Pool 3D - Poolians   \n",
       "88313                  弹炸人2222                  弹炸人2222   \n",
       "88314            Log Challenge                      NaN   \n",
       "\n",
       "                                                     url release_date  \\\n",
       "88310  http://store.steampowered.com/app/761140/Lost_...   2018-01-04   \n",
       "88311  http://store.steampowered.com/app/643980/Ironb...   2018-01-04   \n",
       "88312  http://store.steampowered.com/app/670290/Real_...   2017-07-24   \n",
       "88313     http://store.steampowered.com/app/767400/2222/   2017-12-07   \n",
       "88314  http://store.steampowered.com/app/773570/Log_C...          NaN   \n",
       "\n",
       "                                                    tags  \\\n",
       "88310      [Strategy, Action, Indie, Casual, Simulation]   \n",
       "88311  [Free to Play, Strategy, Indie, RPG, Card Game...   \n",
       "88312  [Free to Play, Simulation, Sports, Casual, Ind...   \n",
       "88313                        [Action, Adventure, Casual]   \n",
       "88314                    [Action, Indie, Casual, Sports]   \n",
       "\n",
       "                                             reviews_url  \\\n",
       "88310  http://steamcommunity.com/app/761140/reviews/?...   \n",
       "88311  http://steamcommunity.com/app/643980/reviews/?...   \n",
       "88312  http://steamcommunity.com/app/670290/reviews/?...   \n",
       "88313  http://steamcommunity.com/app/767400/reviews/?...   \n",
       "88314  http://steamcommunity.com/app/773570/reviews/?...   \n",
       "\n",
       "                                                   specs         price  \\\n",
       "88310                                    [Single-player]          4.99   \n",
       "88311  [Single-player, Multi-player, Online Multi-Pla...  Free To Play   \n",
       "88312  [Single-player, Multi-player, Online Multi-Pla...  Free to Play   \n",
       "88313                                    [Single-player]          0.99   \n",
       "88314  [Single-player, Full controller support, HTC V...          2.99   \n",
       "\n",
       "      early_access      id         developer  \n",
       "88310        False  761140         Kotoshiro  \n",
       "88311        False  643980  Secret Level SRL  \n",
       "88312        False  670290      Poolians.com  \n",
       "88313        False  767400              彼岸领域  \n",
       "88314        False  773570               NaN  "
      ]
     },
     "execution_count": 16,
     "metadata": {},
     "output_type": "execute_result"
    }
   ],
   "source": [
    "#Exploracion Steam Games:\n",
    "games_clean.head()"
   ]
  },
  {
   "cell_type": "code",
   "execution_count": 40,
   "metadata": {},
   "outputs": [
    {
     "data": {
      "text/html": [
       "<div>\n",
       "<style scoped>\n",
       "    .dataframe tbody tr th:only-of-type {\n",
       "        vertical-align: middle;\n",
       "    }\n",
       "\n",
       "    .dataframe tbody tr th {\n",
       "        vertical-align: top;\n",
       "    }\n",
       "\n",
       "    .dataframe thead th {\n",
       "        text-align: right;\n",
       "    }\n",
       "</style>\n",
       "<table border=\"1\" class=\"dataframe\">\n",
       "  <thead>\n",
       "    <tr style=\"text-align: right;\">\n",
       "      <th></th>\n",
       "      <th>genres</th>\n",
       "    </tr>\n",
       "  </thead>\n",
       "  <tbody>\n",
       "    <tr>\n",
       "      <th>88310</th>\n",
       "      <td>Action</td>\n",
       "    </tr>\n",
       "    <tr>\n",
       "      <th>88310</th>\n",
       "      <td>Casual</td>\n",
       "    </tr>\n",
       "    <tr>\n",
       "      <th>88310</th>\n",
       "      <td>Indie</td>\n",
       "    </tr>\n",
       "    <tr>\n",
       "      <th>88310</th>\n",
       "      <td>Simulation</td>\n",
       "    </tr>\n",
       "    <tr>\n",
       "      <th>88310</th>\n",
       "      <td>Strategy</td>\n",
       "    </tr>\n",
       "    <tr>\n",
       "      <th>88311</th>\n",
       "      <td>Free to Play</td>\n",
       "    </tr>\n",
       "    <tr>\n",
       "      <th>88311</th>\n",
       "      <td>Indie</td>\n",
       "    </tr>\n",
       "    <tr>\n",
       "      <th>88311</th>\n",
       "      <td>RPG</td>\n",
       "    </tr>\n",
       "    <tr>\n",
       "      <th>88311</th>\n",
       "      <td>Strategy</td>\n",
       "    </tr>\n",
       "    <tr>\n",
       "      <th>88312</th>\n",
       "      <td>Casual</td>\n",
       "    </tr>\n",
       "    <tr>\n",
       "      <th>88312</th>\n",
       "      <td>Free to Play</td>\n",
       "    </tr>\n",
       "    <tr>\n",
       "      <th>88312</th>\n",
       "      <td>Indie</td>\n",
       "    </tr>\n",
       "    <tr>\n",
       "      <th>88312</th>\n",
       "      <td>Simulation</td>\n",
       "    </tr>\n",
       "    <tr>\n",
       "      <th>88312</th>\n",
       "      <td>Sports</td>\n",
       "    </tr>\n",
       "    <tr>\n",
       "      <th>88313</th>\n",
       "      <td>Action</td>\n",
       "    </tr>\n",
       "    <tr>\n",
       "      <th>88313</th>\n",
       "      <td>Adventure</td>\n",
       "    </tr>\n",
       "    <tr>\n",
       "      <th>88313</th>\n",
       "      <td>Casual</td>\n",
       "    </tr>\n",
       "    <tr>\n",
       "      <th>88314</th>\n",
       "      <td>NaN</td>\n",
       "    </tr>\n",
       "    <tr>\n",
       "      <th>88315</th>\n",
       "      <td>Action</td>\n",
       "    </tr>\n",
       "    <tr>\n",
       "      <th>88315</th>\n",
       "      <td>Adventure</td>\n",
       "    </tr>\n",
       "    <tr>\n",
       "      <th>88315</th>\n",
       "      <td>Simulation</td>\n",
       "    </tr>\n",
       "    <tr>\n",
       "      <th>88316</th>\n",
       "      <td>Free to Play</td>\n",
       "    </tr>\n",
       "    <tr>\n",
       "      <th>88316</th>\n",
       "      <td>Indie</td>\n",
       "    </tr>\n",
       "    <tr>\n",
       "      <th>88316</th>\n",
       "      <td>Simulation</td>\n",
       "    </tr>\n",
       "    <tr>\n",
       "      <th>88316</th>\n",
       "      <td>Sports</td>\n",
       "    </tr>\n",
       "    <tr>\n",
       "      <th>88317</th>\n",
       "      <td>Free to Play</td>\n",
       "    </tr>\n",
       "    <tr>\n",
       "      <th>88317</th>\n",
       "      <td>Indie</td>\n",
       "    </tr>\n",
       "    <tr>\n",
       "      <th>88317</th>\n",
       "      <td>Simulation</td>\n",
       "    </tr>\n",
       "    <tr>\n",
       "      <th>88317</th>\n",
       "      <td>Sports</td>\n",
       "    </tr>\n",
       "    <tr>\n",
       "      <th>88318</th>\n",
       "      <td>Free to Play</td>\n",
       "    </tr>\n",
       "  </tbody>\n",
       "</table>\n",
       "</div>"
      ],
      "text/plain": [
       "             genres\n",
       "88310        Action\n",
       "88310        Casual\n",
       "88310         Indie\n",
       "88310    Simulation\n",
       "88310      Strategy\n",
       "88311  Free to Play\n",
       "88311         Indie\n",
       "88311           RPG\n",
       "88311      Strategy\n",
       "88312        Casual\n",
       "88312  Free to Play\n",
       "88312         Indie\n",
       "88312    Simulation\n",
       "88312        Sports\n",
       "88313        Action\n",
       "88313     Adventure\n",
       "88313        Casual\n",
       "88314           NaN\n",
       "88315        Action\n",
       "88315     Adventure\n",
       "88315    Simulation\n",
       "88316  Free to Play\n",
       "88316         Indie\n",
       "88316    Simulation\n",
       "88316        Sports\n",
       "88317  Free to Play\n",
       "88317         Indie\n",
       "88317    Simulation\n",
       "88317        Sports\n",
       "88318  Free to Play"
      ]
     },
     "execution_count": 40,
     "metadata": {},
     "output_type": "execute_result"
    }
   ],
   "source": [
    "#Creacion tabla de géneros:\n",
    "generos_desanidados = games_clean.explode('genres')\n",
    "\n",
    "generos = generos_desanidados[['genres'].copy()]\n",
    "generos.head(30)"
   ]
  },
  {
   "cell_type": "markdown",
   "metadata": {},
   "source": [
    "USER REVIEWS\n"
   ]
  },
  {
   "cell_type": "code",
   "execution_count": 5,
   "metadata": {},
   "outputs": [],
   "source": [
    "#ETL for user reviews\n",
    "import gzip\n",
    "import ast\n",
    "import pandas as pd \n",
    "data = []\n",
    "\n",
    "\n",
    "\n",
    "try:\n",
    "    with gzip.open('user_reviews.json.gz', 'rb') as d:\n",
    "        for line in d:\n",
    "            data.append(ast.literal_eval(line.decode('utf-8')))\n",
    "    reviews = pd.DataFrame(data)\n",
    "finally:\n",
    "    d.close()  # Cerramos el archivo en el bloque 'finally' para garantizar que se cierre correctamente"
   ]
  },
  {
   "cell_type": "code",
   "execution_count": 34,
   "metadata": {},
   "outputs": [
    {
     "name": "stdout",
     "output_type": "stream",
     "text": [
      "reviews:  (25799, 3)\n"
     ]
    }
   ],
   "source": [
    "#Tamaño User reviews antes de la limpieza:\n",
    "print('reviews: ', reviews.shape)"
   ]
  },
  {
   "cell_type": "code",
   "execution_count": 32,
   "metadata": {},
   "outputs": [],
   "source": [
    "#Limpieza NaN user reviews:\n",
    "reviews_clean = reviews.dropna(how='all')"
   ]
  },
  {
   "cell_type": "code",
   "execution_count": 35,
   "metadata": {},
   "outputs": [
    {
     "name": "stdout",
     "output_type": "stream",
     "text": [
      "User reviews:  (25799, 3)\n"
     ]
    }
   ],
   "source": [
    "#Tamaño User reviews clean:\n",
    "print('User reviews: ', reviews_clean.shape)\n",
    "#no se redujo"
   ]
  },
  {
   "cell_type": "markdown",
   "metadata": {},
   "source": [
    "USER ITEMS"
   ]
  },
  {
   "cell_type": "code",
   "execution_count": 6,
   "metadata": {},
   "outputs": [],
   "source": [
    "#ETL for user items\n",
    "import gzip\n",
    "import ast\n",
    "import pandas as pd \n",
    "\n",
    "data = []\n",
    "\n",
    "try:\n",
    "    with gzip.open('users_items.json.gz', 'rb') as d:\n",
    "        for line in d:\n",
    "            data.append(ast.literal_eval(line.decode('utf-8')))\n",
    "    Users_Items = pd.DataFrame(data)\n",
    "finally:\n",
    "    d.close()"
   ]
  },
  {
   "cell_type": "code",
   "execution_count": 36,
   "metadata": {},
   "outputs": [
    {
     "name": "stdout",
     "output_type": "stream",
     "text": [
      "Users_Items:  (88310, 5)\n"
     ]
    }
   ],
   "source": [
    "#Tamaño user items antes de la limpieza:\n",
    "print('Users_Items: ', Users_Items.shape)"
   ]
  },
  {
   "cell_type": "code",
   "execution_count": 37,
   "metadata": {},
   "outputs": [],
   "source": [
    "#Limpieza de NaN:\n",
    "items_clean = Users_Items.dropna(how='all')"
   ]
  },
  {
   "cell_type": "code",
   "execution_count": 39,
   "metadata": {},
   "outputs": [
    {
     "name": "stdout",
     "output_type": "stream",
     "text": [
      "Items:  (88310, 5)\n"
     ]
    }
   ],
   "source": [
    "#tamaño items luego de la limpieza:\n",
    "print('Items: ',items_clean.shape)\n",
    "#no se redujo"
   ]
  }
 ],
 "metadata": {
  "kernelspec": {
   "display_name": ".venv",
   "language": "python",
   "name": "python3"
  },
  "language_info": {
   "codemirror_mode": {
    "name": "ipython",
    "version": 3
   },
   "file_extension": ".py",
   "mimetype": "text/x-python",
   "name": "python",
   "nbconvert_exporter": "python",
   "pygments_lexer": "ipython3",
   "version": "3.11.0"
  }
 },
 "nbformat": 4,
 "nbformat_minor": 2
}
