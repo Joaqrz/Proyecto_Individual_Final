{
 "cells": [
  {
   "cell_type": "markdown",
   "metadata": {},
   "source": [
    "# Funcion 1\n"
   ]
  },
  {
   "cell_type": "code",
   "execution_count": 4,
   "metadata": {},
   "outputs": [],
   "source": [
    "import pandas as pd\n",
    "\n",
    "\n",
    "def PlayTimeGenre(genero: str):\n",
    "    try:\n",
    "        # Leemos el archivo parquet\n",
    "        df_genero = pd.read_parquet(\"Src/endpoint1.parquet\")\n",
    "        \n",
    "        # Filtrar el DataFrame por el género especificado\n",
    "        df_genero = df_genero[df_genero[\"genres\"] == genero]\n",
    "        \n",
    "        # Encontrar el año con más horas jugadas para el género\n",
    "        año_con_mas_horas = list(df_genero[df_genero[\"playtime\"] == df_genero[\"playtime\"].max()][\"release\"])[0]\n",
    "        \n",
    "        return {f\"Año de lanzamiento con más horas jugadas para {genero}\": año_con_mas_horas}\n",
    "    \n",
    "    except Exception as e:\n",
    "        return {\"error\": str(e)}\n"
   ]
  },
  {
   "cell_type": "code",
   "execution_count": 9,
   "metadata": {},
   "outputs": [
    {
     "data": {
      "text/plain": [
       "{'Año de lanzamiento con más horas jugadas para Puzzle': 2009}"
      ]
     },
     "execution_count": 9,
     "metadata": {},
     "output_type": "execute_result"
    }
   ],
   "source": [
    "PlayTimeGenre('Puzzle')"
   ]
  },
  {
   "cell_type": "markdown",
   "metadata": {},
   "source": [
    "# Funcion 2"
   ]
  },
  {
   "cell_type": "code",
   "execution_count": 3,
   "metadata": {},
   "outputs": [],
   "source": [
    "def userforgenre(genero: str):\n",
    "    #Leemos el parquet\n",
    "    endpoint2 = pd.read_parquet('src/endpoint2.parquet')\n",
    "    \n",
    "    #Convertimos los minutos a horas\n",
    "    endpoint2['playtime'] = round(endpoint2['playtime']/60,2)\n",
    "    \n",
    "    #Filtramos el género solicitado\n",
    "    endpoint2_genero = endpoint2[endpoint2['genres'] == genero]\n",
    "    \n",
    "    #Buscamos el usuario con más horas en el género\n",
    "    usuario_con_mas_horas = endpoint2_genero.loc[endpoint2_genero['playtime'].idxmax()]['user_id']\n",
    "    \n",
    "    #Agrupamos por año \n",
    "    horas_por_año_usuario = endpoint2_genero[endpoint2_genero['user_id'] == usuario_con_mas_horas]\n",
    "    horas_por_año_usuario = horas_por_año_usuario.groupby('release')['playtime'].sum().reset_index()\n",
    "    horas_por_año_usuario = horas_por_año_usuario.rename(columns = {'release': 'Año','playtime':'Horas'})\n",
    "\n",
    "    #Creamos la listita de acumulacion de horas jugadas por año\n",
    "    lista_horas_por_año = horas_por_año_usuario.to_dict(orient='records')\n",
    "    return {f\"Usuario con más horas jugadas para {genero}\": usuario_con_mas_horas,\n",
    "        \"Horas jugadas\": lista_horas_por_año}"
   ]
  },
  {
   "cell_type": "code",
   "execution_count": 4,
   "metadata": {},
   "outputs": [
    {
     "data": {
      "text/plain": [
       "{'Usuario con más horas jugadas para Action': 'Evilutional',\n",
       " 'Horas jugadas': [{'Año': 2009, 'Horas': 33.95},\n",
       "  {'Año': 2010, 'Horas': 68.37},\n",
       "  {'Año': 2011, 'Horas': 32.8},\n",
       "  {'Año': 2012, 'Horas': 11349.85},\n",
       "  {'Año': 2013, 'Horas': 1162.1},\n",
       "  {'Año': 2014, 'Horas': 403.77},\n",
       "  {'Año': 2015, 'Horas': 1.87},\n",
       "  {'Año': 2016, 'Horas': 21.52},\n",
       "  {'Año': 2017, 'Horas': 181.57}]}"
      ]
     },
     "execution_count": 4,
     "metadata": {},
     "output_type": "execute_result"
    }
   ],
   "source": [
    "userforgenre('Action')"
   ]
  },
  {
   "cell_type": "markdown",
   "metadata": {},
   "source": [
    "# Funcion 3\n"
   ]
  },
  {
   "cell_type": "code",
   "execution_count": 10,
   "metadata": {},
   "outputs": [],
   "source": [
    "def UsersRecommend(year: int):\n",
    "    try:\n",
    "        # Leemos el archivo\n",
    "        df = pd.read_parquet('src/reviews.parquet')\n",
    "        #print(\"DataFrame cargado:\", df.head())  # Verificamos los primeros registros del DataFrame\n",
    "        \n",
    "        # Filtramos por año\n",
    "        df_year = df[df['posted_year'] == year]\n",
    "        #print(\"Registros para el año\", year, \":\", len(df_year))  # Verificamos cuántos registros hay para el año específico\n",
    "        \n",
    "        # Filtramos por recomendaciones positivas/neutrales\n",
    "        df_recommend = df_year[df_year['recommend'] == True]\n",
    "        df_sentiment = df_recommend[df_recommend['sentiment_analysis'].isin([2, 1])]\n",
    "        #print(\"Registros con recomendaciones positivas/neutrales:\", len(df_sentiment))  # Verificamos cuántos registros cumplen con los criterios de recomendación y sentimiento\n",
    "        \n",
    "        # Excluimos títulos 'Otros'\n",
    "        df_filtered = df_sentiment[df_sentiment['title'] != 'Otros']\n",
    "        # print(\"Registros después de excluir 'Otros':\", len(df_filtered))  # Verificamos cuántos registros quedan después de excluir 'Otros'\n",
    "        \n",
    "        # Agrupamos por título y contamos las recomendaciones\n",
    "        recommendations = df_filtered.groupby('title')['recommend'].sum()\n",
    "        #print(\"Recomendaciones por juego:\", recommendations)  # Verificamos el conteo de recomendaciones por juego\n",
    "        \n",
    "        # Ordenamos las recomendaciones por número de recomendaciones \n",
    "        recommendations_sorted = recommendations.sort_values(ascending=False)\n",
    "        \n",
    "        # Tomamos los tres primeros juegos\n",
    "        top_3 = recommendations_sorted.head(3)\n",
    "        #print(\"Top 3 juegos recomendados:\", top_3)  # Verificamos el top 3 de juegos recomendados\n",
    "        \n",
    "        # Verificamos si hay suficientes juegos recomendados\n",
    "        if len(top_3) >= 3:\n",
    "            # Creamos una lista de diccionarios para los tres primeros juegos\n",
    "            result = [{\"Puesto {}\".format(i + 1): game} for i, game in enumerate(top_3.index)]\n",
    "        else:\n",
    "            # Si no hay suficientes juegos, devolvemos un mensaje de datos insuficientes\n",
    "            result = 'Datos insuficientes'\n",
    "        \n",
    "        return result\n",
    "    \n",
    "    except Exception as e:\n",
    "        # Capturamos cualquier excepción y la devolvemos como un diccionario\n",
    "        return {\"error\": str(e)}\n",
    "    "
   ]
  },
  {
   "cell_type": "code",
   "execution_count": 11,
   "metadata": {},
   "outputs": [
    {
     "data": {
      "text/plain": [
       "'Datos insuficientes'"
      ]
     },
     "execution_count": 11,
     "metadata": {},
     "output_type": "execute_result"
    }
   ],
   "source": [
    "UsersRecommend(2017)"
   ]
  },
  {
   "cell_type": "markdown",
   "metadata": {},
   "source": [
    "# Funcion 4\n"
   ]
  },
  {
   "cell_type": "code",
   "execution_count": 12,
   "metadata": {},
   "outputs": [],
   "source": [
    "def UsersWorstDeveloper(year:int):\n",
    "    try:\n",
    "        # Leemos el archivo\n",
    "        df = pd.read_parquet('src/reviews.parquet')\n",
    "        #print(\"DataFrame cargado:\", df.head())  # Verificamos los primeros registros del DataFrame\n",
    "        \n",
    "        # Filtramos por año\n",
    "        df_year = df[df['posted_year'] == year]\n",
    "        #print(\"Registros para el año\", year, \":\", len(df_year))  # Verificamos cuántos registros hay para el año específico\n",
    "        \n",
    "        # Filtramos por recomendaciones positivas/neutrales\n",
    "        df_recommend = df_year[df_year['recommend'] == False]\n",
    "        df_sentiment = df_recommend[df_recommend['sentiment_analysis'] == 0]\n",
    "        #print(\"Registros con recomendaciones positivas/neutrales:\", len(df_sentiment))  # Verificamos cuántos registros cumplen con los criterios de recomendación y sentimiento\n",
    "        \n",
    "        # Excluimos títulos 'Otros'\n",
    "        df_filtered = df_sentiment[df_sentiment['developer'] != 'Otros']\n",
    "        # print(\"Registros después de excluir 'Otros':\", len(df_filtered))  # Verificamos cuántos registros quedan después de excluir 'Otros'\n",
    "        \n",
    "        # Agrupamos por título y contamos las recomendaciones\n",
    "        negative_recommendations = df_filtered.groupby('developer')['recommend'].sum()\n",
    "        #print(\"Recomendaciones por juego:\", recommendations)  # Verificamos el conteo de recomendaciones por juego\n",
    "        \n",
    "        # Ordenamos las recomendaciones por número de recomendaciones \n",
    "        negative_recommendations_sorted = negative_recommendations.sort_values(ascending=False)\n",
    "        \n",
    "        # Tomamos los tres primeros juegos\n",
    "        top_3 = negative_recommendations_sorted.head(3)\n",
    "        #print(\"Top 3 juegos recomendados:\", top_3)  # Verificamos el top 3 de juegos recomendados\n",
    "        \n",
    "        # Verificamos si hay suficientes juegos recomendados\n",
    "        if len(top_3) >= 3:\n",
    "            # Creamos una lista de diccionarios para los tres primeros juegos\n",
    "            result = [{\"Puesto {}\".format(i + 1): game} for i, game in enumerate(top_3.index)]\n",
    "        else:\n",
    "            # Si no hay suficientes juegos, devolvemos un mensaje de datos insuficientes\n",
    "            result = 'Datos insuficientes'\n",
    "        \n",
    "        return result\n",
    "    \n",
    "    except Exception as e:\n",
    "        # Capturamos cualquier excepción y la devolvemos como un diccionario\n",
    "        return {\"error\": str(e)}\n",
    "    "
   ]
  },
  {
   "cell_type": "code",
   "execution_count": 14,
   "metadata": {},
   "outputs": [
    {
     "data": {
      "text/plain": [
       "[{'Puesto 1': '10th Art Studio,Adventure Productions'},\n",
       " {'Puesto 2': 'Red Duck Inc.'},\n",
       " {'Puesto 3': 'Reality Pump'}]"
      ]
     },
     "execution_count": 14,
     "metadata": {},
     "output_type": "execute_result"
    }
   ],
   "source": [
    "UsersWorstDeveloper(2015)"
   ]
  },
  {
   "cell_type": "markdown",
   "metadata": {},
   "source": [
    "# Funcion 5\n"
   ]
  },
  {
   "cell_type": "code",
   "execution_count": 15,
   "metadata": {},
   "outputs": [],
   "source": [
    "def SentimentAnalysis(desarrolladora:str):\n",
    "    try:\n",
    "        #Leemos el archivo    \n",
    "        df_sentiment = pd.read_parquet('src/reviews.parquet')\n",
    "        \n",
    "        #Filtramos el df con la desarrolladora\n",
    "        df_developer = df_sentiment[df_sentiment['developer'] == desarrolladora]\n",
    "        \n",
    "        #Contabilizamos las reviews\n",
    "        positive_count = (df_developer['sentiment_analysis'] == 2).sum()\n",
    "        neutral_count = (df_developer['sentiment_analysis'] == 1).sum()\n",
    "        negative_count = (df_developer['sentiment_analysis'] == 0).sum()\n",
    "        \n",
    "        #Creamos el diccionario solicitado:\n",
    "        result_dicc = {\n",
    "            'Desarrolladora': desarrolladora,\n",
    "            'Reviews Positivas': positive_count,\n",
    "            'Reviews Neutras': neutral_count,\n",
    "            'Reviews Negativas': negative_count\n",
    "        }\n",
    "        return result_dicc\n",
    "        \n",
    "    except Exception as e:\n",
    "        # Capturamos cualquier excepción y la devolvemos como un diccionario\n",
    "        return {\"error\": str(e)}"
   ]
  },
  {
   "cell_type": "code",
   "execution_count": 16,
   "metadata": {},
   "outputs": [
    {
     "data": {
      "text/plain": [
       "{'Desarrolladora': 'Ubisoft',\n",
       " 'Reviews Positivas': 83,\n",
       " 'Reviews Neutras': 1,\n",
       " 'Reviews Negativas': 35}"
      ]
     },
     "execution_count": 16,
     "metadata": {},
     "output_type": "execute_result"
    }
   ],
   "source": [
    "SentimentAnalysis('Ubisoft')"
   ]
  }
 ],
 "metadata": {
  "kernelspec": {
   "display_name": ".venv",
   "language": "python",
   "name": "python3"
  },
  "language_info": {
   "codemirror_mode": {
    "name": "ipython",
    "version": 3
   },
   "file_extension": ".py",
   "mimetype": "text/x-python",
   "name": "python",
   "nbconvert_exporter": "python",
   "pygments_lexer": "ipython3",
   "version": "3.11.0"
  }
 },
 "nbformat": 4,
 "nbformat_minor": 2
}
